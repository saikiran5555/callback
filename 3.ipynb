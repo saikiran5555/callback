{
 "cells": [
  {
   "cell_type": "code",
   "execution_count": 1,
   "id": "c9683e83",
   "metadata": {},
   "outputs": [
    {
     "name": "stdout",
     "output_type": "stream",
     "text": [
      "Null Values:\n",
      "fixed acidity           0\n",
      "volatile acidity        0\n",
      "citric acid             0\n",
      "residual sugar          0\n",
      "chlorides               0\n",
      "free sulfur dioxide     0\n",
      "total sulfur dioxide    0\n",
      "density                 0\n",
      "pH                      0\n",
      "sulphates               0\n",
      "alcohol                 0\n",
      "quality                 0\n",
      "dtype: int64\n",
      "Categorical Variables:\n",
      "Index(['quality'], dtype='object')\n",
      "Encoded Dataset:\n",
      "   fixed acidity  volatile acidity  citric acid  residual sugar  chlorides  \\\n",
      "0            7.4              0.70         0.00             1.9      0.076   \n",
      "1            7.8              0.88         0.00             2.6      0.098   \n",
      "2            7.8              0.76         0.04             2.3      0.092   \n",
      "3           11.2              0.28         0.56             1.9      0.075   \n",
      "4            7.4              0.70         0.00             1.9      0.076   \n",
      "\n",
      "   free sulfur dioxide  total sulfur dioxide  density    pH  sulphates  \\\n",
      "0                 11.0                  34.0   0.9978  3.51       0.56   \n",
      "1                 25.0                  67.0   0.9968  3.20       0.68   \n",
      "2                 15.0                  54.0   0.9970  3.26       0.65   \n",
      "3                 17.0                  60.0   0.9980  3.16       0.58   \n",
      "4                 11.0                  34.0   0.9978  3.51       0.56   \n",
      "\n",
      "   alcohol  quality  \n",
      "0      9.4        0  \n",
      "1      9.8        0  \n",
      "2      9.8        0  \n",
      "3      9.8        1  \n",
      "4      9.4        0  \n"
     ]
    }
   ],
   "source": [
    "import pandas as pd\n",
    "from sklearn.preprocessing import OneHotEncoder, LabelEncoder\n",
    "\n",
    "# Load your dataset (replace 'data.csv' with your dataset file)\n",
    "data = pd.read_csv('wine.csv')\n",
    "\n",
    "# Step 1: Check for Null Values\n",
    "null_values = data.isnull().sum()\n",
    "print(\"Null Values:\")\n",
    "print(null_values)\n",
    "\n",
    "# Step 2: Identify Categorical Variables\n",
    "categorical_variables = data.select_dtypes(include=['object']).columns\n",
    "print(\"Categorical Variables:\")\n",
    "print(categorical_variables)\n",
    "\n",
    "# Step 3: Encode Categorical Variables\n",
    "for column in categorical_variables:\n",
    "    # Use LabelEncoder for binary or ordinal categorical variables\n",
    "    if len(data[column].unique()) <= 2:\n",
    "        label_encoder = LabelEncoder()\n",
    "        data[column] = label_encoder.fit_transform(data[column])\n",
    "    # Use OneHotEncoder for nominal categorical variables\n",
    "    else:\n",
    "        onehot_encoder = OneHotEncoder(sparse=False)\n",
    "        encoded_columns = pd.DataFrame(onehot_encoder.fit_transform(data[[column]]))\n",
    "        encoded_columns.columns = onehot_encoder.get_feature_names([column])\n",
    "        data = pd.concat([data, encoded_columns], axis=1)\n",
    "        data.drop(column, axis=1, inplace=True)\n",
    "\n",
    "# Display the encoded dataset\n",
    "print(\"Encoded Dataset:\")\n",
    "print(data.head())\n"
   ]
  },
  {
   "cell_type": "code",
   "execution_count": null,
   "id": "65d7860a",
   "metadata": {},
   "outputs": [],
   "source": []
  }
 ],
 "metadata": {
  "kernelspec": {
   "display_name": "Python 3 (ipykernel)",
   "language": "python",
   "name": "python3"
  },
  "language_info": {
   "codemirror_mode": {
    "name": "ipython",
    "version": 3
   },
   "file_extension": ".py",
   "mimetype": "text/x-python",
   "name": "python",
   "nbconvert_exporter": "python",
   "pygments_lexer": "ipython3",
   "version": "3.10.9"
  }
 },
 "nbformat": 4,
 "nbformat_minor": 5
}
