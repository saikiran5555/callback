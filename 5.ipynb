{
 "cells": [
  {
   "cell_type": "code",
   "execution_count": 5,
   "id": "24a5a332",
   "metadata": {},
   "outputs": [
    {
     "ename": "NameError",
     "evalue": "name 'scaled_data' is not defined",
     "output_type": "error",
     "traceback": [
      "\u001b[1;31m---------------------------------------------------------------------------\u001b[0m",
      "\u001b[1;31mNameError\u001b[0m                                 Traceback (most recent call last)",
      "Cell \u001b[1;32mIn[5], line 5\u001b[0m\n\u001b[0;32m      2\u001b[0m \u001b[38;5;28;01mfrom\u001b[39;00m \u001b[38;5;21;01msklearn\u001b[39;00m\u001b[38;5;21;01m.\u001b[39;00m\u001b[38;5;21;01mmodel_selection\u001b[39;00m \u001b[38;5;28;01mimport\u001b[39;00m train_test_split\n\u001b[0;32m      3\u001b[0m \u001b[38;5;66;03m# Assuming 'scaled_data' is your DataFrame with scaled features and the target column\u001b[39;00m\n\u001b[0;32m      4\u001b[0m \u001b[38;5;66;03m# Ensure this DataFrame is correctly defined\u001b[39;00m\n\u001b[1;32m----> 5\u001b[0m scaled_features \u001b[38;5;241m=\u001b[39m \u001b[43mscaled_data\u001b[49m  \u001b[38;5;66;03m# Replace 'scaled_data' with the actual variable name of your scaled DataFrame\u001b[39;00m\n\u001b[0;32m      7\u001b[0m \u001b[38;5;66;03m# Now, perform the train-test split\u001b[39;00m\n\u001b[0;32m      8\u001b[0m \u001b[38;5;28;01mfrom\u001b[39;00m \u001b[38;5;21;01msklearn\u001b[39;00m\u001b[38;5;21;01m.\u001b[39;00m\u001b[38;5;21;01mmodel_selection\u001b[39;00m \u001b[38;5;28;01mimport\u001b[39;00m train_test_split\n",
      "\u001b[1;31mNameError\u001b[0m: name 'scaled_data' is not defined"
     ]
    }
   ],
   "source": [
    "import pandas as pd\n",
    "from sklearn.model_selection import train_test_split\n",
    "# Assuming 'scaled_data' is your DataFrame with scaled features and the target column\n",
    "# Ensure this DataFrame is correctly defined\n",
    "scaled_features = scaled_data  # Replace 'scaled_data' with the actual variable name of your scaled DataFrame\n",
    "\n",
    "# Now, perform the train-test split\n",
    "from sklearn.model_selection import train_test_split\n",
    "\n",
    "# Replace 'target_column' with the actual name of your target variable column\n",
    "X = scaled_features.drop(columns=['quality'])  # Features\n",
    "y = scaled_features['quality']  # Target variable\n",
    "\n",
    "# Perform train-test split\n",
    "X_train, X_test, y_train, y_test = train_test_split(X, y, test_size=0.3, random_state=42)\n",
    "\n",
    "# Further split training data into training and validation sets if needed\n",
    "X_train, X_val, y_train, y_val = train_test_split(X_train, y_train, test_size=0.2, random_state=42)\n",
    "\n",
    "# Print shapes of the resulting datasets\n",
    "print(\"Training set - Features:\", X_train.shape, \"Labels:\", y_train.shape)\n",
    "print(\"Validation set - Features:\", X_val.shape, \"Labels:\", y_val.shape)\n",
    "print(\"Test set - Features:\", X_test.shape, \"Labels:\", y_test.shape)\n",
    "\n"
   ]
  },
  {
   "cell_type": "code",
   "execution_count": null,
   "id": "982d1bfa",
   "metadata": {},
   "outputs": [],
   "source": []
  }
 ],
 "metadata": {
  "kernelspec": {
   "display_name": "Python 3 (ipykernel)",
   "language": "python",
   "name": "python3"
  },
  "language_info": {
   "codemirror_mode": {
    "name": "ipython",
    "version": 3
   },
   "file_extension": ".py",
   "mimetype": "text/x-python",
   "name": "python",
   "nbconvert_exporter": "python",
   "pygments_lexer": "ipython3",
   "version": "3.10.9"
  }
 },
 "nbformat": 4,
 "nbformat_minor": 5
}
