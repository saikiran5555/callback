{
 "cells": [
  {
   "cell_type": "code",
   "execution_count": 2,
   "id": "7a95d452",
   "metadata": {},
   "outputs": [
    {
     "name": "stdout",
     "output_type": "stream",
     "text": [
      "Dimensions of the Wine Quality dataset:\n",
      "Number of rows: 1599\n",
      "Number of columns: 12\n",
      "\n",
      "Shape of features: (1599, 11)\n",
      "Shape of target: (1599,)\n"
     ]
    }
   ],
   "source": [
    "import pandas as pd\n",
    "\n",
    "# Load the Wine Quality dataset\n",
    "wine_data = pd.read_csv('wine.csv')  # Assuming the file is in the same directory as the script\n",
    "\n",
    "# Display the dimensions of the dataset\n",
    "print(\"Dimensions of the Wine Quality dataset:\")\n",
    "print(\"Number of rows:\", wine_data.shape[0])\n",
    "print(\"Number of columns:\", wine_data.shape[1])\n",
    "\n",
    "# Separate features and target variable\n",
    "features = wine_data.drop('quality', axis=1)  # Drop the 'quality' column to get features\n",
    "target = wine_data['quality']  # Select the 'quality' column as the target variable\n",
    "\n",
    "# Display the shapes of features and target\n",
    "print(\"\\nShape of features:\", features.shape)\n",
    "print(\"Shape of target:\", target.shape)\n"
   ]
  },
  {
   "cell_type": "code",
   "execution_count": null,
   "id": "c6fb2e1a",
   "metadata": {},
   "outputs": [],
   "source": []
  }
 ],
 "metadata": {
  "kernelspec": {
   "display_name": "Python 3 (ipykernel)",
   "language": "python",
   "name": "python3"
  },
  "language_info": {
   "codemirror_mode": {
    "name": "ipython",
    "version": 3
   },
   "file_extension": ".py",
   "mimetype": "text/x-python",
   "name": "python",
   "nbconvert_exporter": "python",
   "pygments_lexer": "ipython3",
   "version": "3.10.9"
  }
 },
 "nbformat": 4,
 "nbformat_minor": 5
}
